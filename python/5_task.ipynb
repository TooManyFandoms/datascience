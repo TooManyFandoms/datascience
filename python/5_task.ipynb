{
 "cells": [
  {
   "cell_type": "markdown",
   "id": "85755de8",
   "metadata": {},
   "source": [
    "# Самостоятельное задание #5\n",
    "\n",
    "\n",
    "### Задание 1\n",
    "\n",
    "Допишите функцию, которая принимает список, выбирает из него все элементы с четным индексом и возвращает их в виде списка."
   ]
  },
  {
   "cell_type": "code",
   "execution_count": 10,
   "id": "6ef6d9b3",
   "metadata": {},
   "outputs": [],
   "source": [
    "def chet(l):\n",
    "    a=[]\n",
    "    for i in l:\n",
    "       if l.index(i)%2==0:\n",
    "            a.append(i)\n",
    "    return a\n",
    "\n"
   ]
  },
  {
   "cell_type": "markdown",
   "id": "443974c9",
   "metadata": {},
   "source": [
    "### Задание 2\n",
    "\n",
    "Допишите функцию, которая принимает список, выбирает из него все элементы, которые больше предыдущего и возвращает их в виде списка.\n"
   ]
  },
  {
   "cell_type": "code",
   "execution_count": 9,
   "id": "3a8cf925",
   "metadata": {},
   "outputs": [],
   "source": [
    "def more(l):\n",
    "    a=[]\n",
    "    for i in range(0, len(l)-1):\n",
    "        if l[i]<l[i+1]:\n",
    "            a.append(l[i+1])\n",
    "    return a\n",
    "\n"
   ]
  },
  {
   "cell_type": "markdown",
   "id": "34524ede",
   "metadata": {},
   "source": [
    "### Задание 3\n",
    "\n",
    "Допишите функцию, которая принимает список, меняет местами наибольший и наименьший элементы и возвращает этот список."
   ]
  },
  {
   "cell_type": "code",
   "execution_count": 14,
   "id": "34d2beae",
   "metadata": {},
   "outputs": [],
   "source": [
    "def change(l):\n",
    "    l[l.index(max(l))], l[l.index(min(l))] = l[l.index(min(l))], l[l.index(max(l))]\n",
    "    return l\n"
   ]
  }
 ],
 "metadata": {
  "kernelspec": {
   "display_name": "Python 3.8.10 64-bit",
   "language": "python",
   "name": "python3"
  },
  "language_info": {
   "codemirror_mode": {
    "name": "ipython",
    "version": 3
   },
   "file_extension": ".py",
   "mimetype": "text/x-python",
   "name": "python",
   "nbconvert_exporter": "python",
   "pygments_lexer": "ipython3",
   "version": "3.8.10"
  },
  "vscode": {
   "interpreter": {
    "hash": "916dbcbb3f70747c44a77c7bcd40155683ae19c65e1c03b4aa3499c5328201f1"
   }
  }
 },
 "nbformat": 4,
 "nbformat_minor": 5
}
